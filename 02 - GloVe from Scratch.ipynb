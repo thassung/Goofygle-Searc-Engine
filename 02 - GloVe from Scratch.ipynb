{
  "cells": [
    {
      "cell_type": "markdown",
      "metadata": {
        "id": "Y8wS96WX3XZl"
      },
      "source": [
        "# GloVE\n",
        "\n",
        "Let's work on implementation of GloVE."
      ]
    },
    {
      "cell_type": "code",
      "execution_count": 1,
      "metadata": {
        "id": "T0XmsJke3XZ1"
      },
      "outputs": [],
      "source": [
        "import numpy as np\n",
        "import torch\n",
        "import torch.nn as nn\n",
        "import torch.optim as optim\n",
        "import matplotlib.pyplot as plt"
      ]
    },
    {
      "cell_type": "markdown",
      "metadata": {
        "id": "_BOS3CL_3XaA"
      },
      "source": [
        "## 1. Download nltk corpus"
      ]
    },
    {
      "cell_type": "code",
      "execution_count": 121,
      "metadata": {
        "id": "VsgHU0923XaD"
      },
      "outputs": [],
      "source": [
        "import nltk\n",
        "from nltk.corpus import reuters"
      ]
    },
    {
      "cell_type": "code",
      "execution_count": 122,
      "metadata": {
        "colab": {
          "base_uri": "https://localhost:8080/"
        },
        "id": "AVrqZOCT3XaH",
        "outputId": "8344a4dd-4688-4b6f-9dbf-77b2928b7a58"
      },
      "outputs": [],
      "source": [
        "# nltk.download('reuters')\n",
        "# nltk.download('punkt')"
      ]
    },
    {
      "cell_type": "code",
      "execution_count": 123,
      "metadata": {},
      "outputs": [],
      "source": [
        "# print(len(nltk.corpus.reuters.sents()))"
      ]
    },
    {
      "cell_type": "code",
      "execution_count": 124,
      "metadata": {
        "id": "p5OGdCpC3XaO"
      },
      "outputs": [],
      "source": [
        "corpus = nltk.corpus.reuters.sents()"
      ]
    },
    {
      "cell_type": "code",
      "execution_count": 125,
      "metadata": {},
      "outputs": [],
      "source": [
        "corpus = corpus[:1000]\n",
        "# corpus"
      ]
    },
    {
      "cell_type": "code",
      "execution_count": 126,
      "metadata": {
        "id": "Lo2ddOCP3XaP"
      },
      "outputs": [],
      "source": [
        "#get word sequences and unique words\n",
        "flatten = lambda l: [item for sublist in l for item in sublist]\n",
        "vocab = list(set(flatten(corpus)))"
      ]
    },
    {
      "cell_type": "code",
      "execution_count": 127,
      "metadata": {
        "colab": {
          "base_uri": "https://localhost:8080/"
        },
        "id": "dc8RF92v3XaR",
        "outputId": "628caebe-df03-4cf9-9473-24334b6830b3"
      },
      "outputs": [
        {
          "name": "stdout",
          "output_type": "stream",
          "text": [
            "4972\n"
          ]
        }
      ],
      "source": [
        "#vocab size\n",
        "voc_size = len(vocab)\n",
        "print(voc_size)"
      ]
    },
    {
      "cell_type": "code",
      "execution_count": 128,
      "metadata": {
        "id": "kFw7mmRH3XaV"
      },
      "outputs": [],
      "source": [
        "#append UNK\n",
        "vocab.append('<UNK>')"
      ]
    },
    {
      "cell_type": "code",
      "execution_count": 129,
      "metadata": {
        "id": "GSfx3Mne3XaQ"
      },
      "outputs": [],
      "source": [
        "#numericalization\n",
        "word2index = {w: i for i, w in enumerate(vocab)}"
      ]
    },
    {
      "cell_type": "code",
      "execution_count": 130,
      "metadata": {},
      "outputs": [],
      "source": [
        "import pickle\n",
        "pickle.dump(vocab, open('./vocab/glove_vocab.pkl', 'wb'))"
      ]
    },
    {
      "cell_type": "code",
      "execution_count": 49,
      "metadata": {
        "id": "DJbtAgKw3Xaa"
      },
      "outputs": [],
      "source": [
        "#just in case we need to use\n",
        "index2word = {v:k for k, v in word2index.items()}"
      ]
    },
    {
      "cell_type": "markdown",
      "metadata": {
        "id": "e6OwYKc93Xab"
      },
      "source": [
        "## 2. Build Co-occurence Matrix X"
      ]
    },
    {
      "cell_type": "markdown",
      "metadata": {
        "id": "dMwgqA-F3Xac"
      },
      "source": [
        "Here, we need to count the co-occurence of two words given some window size.  We gonna use window size of 1."
      ]
    },
    {
      "cell_type": "code",
      "execution_count": 50,
      "metadata": {
        "colab": {
          "base_uri": "https://localhost:8080/"
        },
        "collapsed": true,
        "id": "K_C_yCcr3Xac",
        "outputId": "c576376d-fb91-4057-81bb-d963f6de9fc2"
      },
      "outputs": [],
      "source": [
        "from collections import Counter\n",
        "\n",
        "X_i = Counter(flatten(corpus)) # X_i\n",
        "# X_i"
      ]
    },
    {
      "cell_type": "code",
      "execution_count": 51,
      "metadata": {
        "id": "3AHDOgO83Xad"
      },
      "outputs": [],
      "source": [
        "# Make skip gram of one size window\n",
        "skip_grams = []\n",
        "# loop each word sequence\n",
        "# we starts from 1 because 0 has no context\n",
        "# we stop at second last for the same reason\n",
        "for sent in corpus:\n",
        "    for i in range(2, len(sent) - 2):\n",
        "        target = sent[i]\n",
        "        context = [sent[i - 2], sent[i - 1], sent[i + 1], sent[i + 2]]\n",
        "        for w in context:\n",
        "            skip_grams.append((target, w))"
      ]
    },
    {
      "cell_type": "code",
      "execution_count": 52,
      "metadata": {
        "collapsed": true,
        "id": "QClTIEzO3Xaf"
      },
      "outputs": [],
      "source": [
        "X_ik_skipgram = Counter(skip_grams) # Co-occurece in window size 1"
      ]
    },
    {
      "cell_type": "markdown",
      "metadata": {
        "id": "PngCWy4a3Xak"
      },
      "source": [
        "### Weighting function\n",
        "\n",
        "GloVe includes a weighting function to scale down too frequent words.\n",
        "\n",
        "<img src = \"figures/glove_weighting_func.png\" width=400>"
      ]
    },
    {
      "cell_type": "code",
      "execution_count": 53,
      "metadata": {
        "id": "z1jjBFgE3Xak"
      },
      "outputs": [],
      "source": [
        "#simply a normalized function...don't worry too much\n",
        "def weighting(w_i, w_j, X_ik):\n",
        "\n",
        "    #check whether the co-occurrences exist between these two words\n",
        "    try:\n",
        "        x_ij = X_ik[(w_i, w_j)]\n",
        "    except:\n",
        "        x_ij = 1  #if does not exist, set it to 1\n",
        "\n",
        "    x_max = 100 #100 # fixed in paper  #cannot exceed 100 counts\n",
        "    alpha = 0.75\n",
        "\n",
        "    #if co-occurrence does not exceed 100, scale it based on some alpha\n",
        "    if x_ij < x_max:\n",
        "        result = (x_ij/x_max)**alpha  #scale it\n",
        "    else:\n",
        "        result = 1  #if is greater than max, set it to 1 maximum\n",
        "\n",
        "    return result"
      ]
    },
    {
      "cell_type": "code",
      "execution_count": 54,
      "metadata": {
        "id": "ej2o87DC3Xal"
      },
      "outputs": [],
      "source": [
        "from itertools import combinations_with_replacement\n",
        "\n",
        "X_ik = {}  #for keeping the co-occurences\n",
        "weighting_dic = {} #scaling the percentage of sampling\n",
        "\n",
        "for bigram in combinations_with_replacement(vocab, 2):\n",
        "    if X_ik_skipgram.get(bigram) is not None:  #matches\n",
        "        co_occer = X_ik_skipgram[bigram]  #get the count from what we already counted\n",
        "        X_ik[bigram] = co_occer + 1 # + 1 for stability issue\n",
        "        X_ik[(bigram[1],bigram[0])] = co_occer+1   #count also for the opposite\n",
        "    else:\n",
        "        pass\n",
        "\n",
        "    weighting_dic[bigram] = weighting(bigram[0], bigram[1], X_ik)\n",
        "    weighting_dic[(bigram[1], bigram[0])] = weighting(bigram[1], bigram[0], X_ik)\n",
        "\n",
        "# print(f\"{X_ik=}\")\n",
        "# print(f\"{weighting_dic=}\")\n"
      ]
    },
    {
      "cell_type": "markdown",
      "metadata": {
        "id": "v47wUS-T3Xam"
      },
      "source": [
        "## 3. Prepare train data"
      ]
    },
    {
      "cell_type": "code",
      "execution_count": 55,
      "metadata": {
        "id": "6y73eJ3S3Xam"
      },
      "outputs": [],
      "source": [
        "# for c in corpus:\n",
        "#     print(c)"
      ]
    },
    {
      "cell_type": "code",
      "execution_count": 56,
      "metadata": {
        "id": "WarKxPjj3Xan"
      },
      "outputs": [],
      "source": [
        "import math\n",
        "\n",
        "def random_batch(batch_size, word_sequence, skip_grams, X_ik, weighting_dic):\n",
        "\n",
        "    #convert to id since our skip_grams is word, not yet id\n",
        "    skip_grams_id = [(word2index[skip_gram[0]], word2index[skip_gram[1]]) for skip_gram in skip_grams]\n",
        "\n",
        "    random_inputs = []\n",
        "    random_labels = []\n",
        "    random_coocs  = []\n",
        "    random_weightings = []\n",
        "    random_index = np.random.choice(range(len(skip_grams_id)), batch_size, replace=False) #randomly pick without replacement\n",
        "\n",
        "    for i in random_index:\n",
        "        random_inputs.append([skip_grams_id[i][0]])  # target, e.g., 2\n",
        "        random_labels.append([skip_grams_id[i][1]])  # context word, e.g., 3\n",
        "\n",
        "        #get cooc\n",
        "        pair = skip_grams[i]\n",
        "        try:\n",
        "            cooc = X_ik[pair]\n",
        "        except:\n",
        "            cooc = 1\n",
        "        random_coocs.append([math.log(cooc)])\n",
        "\n",
        "        #get weighting\n",
        "        weighting = weighting_dic[pair]\n",
        "        random_weightings.append([weighting])\n",
        "\n",
        "    return np.array(random_inputs), np.array(random_labels), np.array(random_coocs), np.array(random_weightings)"
      ]
    },
    {
      "cell_type": "markdown",
      "metadata": {
        "id": "5joexmPa3Xao"
      },
      "source": [
        "### Testing the method"
      ]
    },
    {
      "cell_type": "code",
      "execution_count": 57,
      "metadata": {
        "id": "2L6Q8NKx3Xap"
      },
      "outputs": [
        {
          "name": "stdout",
          "output_type": "stream",
          "text": [
            "Input:  [[3520]\n",
            " [4135]]\n",
            "Target:  [[1189]\n",
            " [1189]]\n",
            "Cooc:  [[1.38629436]\n",
            " [3.17805383]]\n",
            "Weighting:  [[0.08944272]\n",
            " [0.34289285]]\n"
          ]
        }
      ],
      "source": [
        "#testing the method\n",
        "batch_size = 2 # mini-batch size\n",
        "input_batch, target_batch, cooc_batch, weighting_batch = random_batch(batch_size, corpus, skip_grams, X_ik, weighting_dic)\n",
        "\n",
        "print(\"Input: \", input_batch)\n",
        "print(\"Target: \", target_batch)\n",
        "print(\"Cooc: \", cooc_batch)\n",
        "print(\"Weighting: \", weighting_batch)\n",
        "\n",
        "#we will convert them to tensor during training, so don't worry..."
      ]
    },
    {
      "cell_type": "markdown",
      "metadata": {
        "id": "3t7osOGo3Xap"
      },
      "source": [
        "## 4. Model\n",
        "\n",
        "<img src =\"figures/glove.png\">"
      ]
    },
    {
      "cell_type": "code",
      "execution_count": 2,
      "metadata": {
        "id": "qrMnfxMQ3Xaq"
      },
      "outputs": [],
      "source": [
        "class GloVe(nn.Module):\n",
        "\n",
        "    def __init__(self, vocab_size,embed_size):\n",
        "        super(GloVe,self).__init__()\n",
        "        self.embedding_v = nn.Embedding(vocab_size, embed_size) # center embedding\n",
        "        self.embedding_u = nn.Embedding(vocab_size, embed_size) # out embedding\n",
        "\n",
        "        self.v_bias = nn.Embedding(vocab_size, 1)\n",
        "        self.u_bias = nn.Embedding(vocab_size, 1)\n",
        "\n",
        "    def forward(self, center_words, target_words, coocs, weighting):\n",
        "        center_embeds = self.embedding_v(center_words) # [batch_size, 1, emb_size]\n",
        "        target_embeds = self.embedding_u(target_words) # [batch_size, 1, emb_size]\n",
        "\n",
        "        center_bias = self.v_bias(center_words).squeeze(1)\n",
        "        target_bias = self.u_bias(target_words).squeeze(1)\n",
        "\n",
        "        inner_product = target_embeds.bmm(center_embeds.transpose(1, 2)).squeeze(2)\n",
        "        #[batch_size, 1, emb_size] @ [batch_size, emb_size, 1] = [batch_size, 1, 1] = [batch_size, 1]\n",
        "\n",
        "        #note that coocs already got log\n",
        "        loss = weighting*torch.pow(inner_product +center_bias + target_bias - coocs, 2)\n",
        "\n",
        "        return torch.sum(loss)"
      ]
    },
    {
      "cell_type": "markdown",
      "metadata": {
        "id": "oBih_AHM3Xaq"
      },
      "source": [
        "## 5. Training"
      ]
    },
    {
      "cell_type": "code",
      "execution_count": 59,
      "metadata": {
        "id": "5r0e3LEY3Xar"
      },
      "outputs": [],
      "source": [
        "batch_size     = 10 # mini-batch size\n",
        "embedding_size = 2 #so we can later plot\n",
        "model          = GloVe(voc_size, embedding_size)\n",
        "\n",
        "criterion = nn.CrossEntropyLoss()\n",
        "optimizer = optim.Adam(model.parameters(), lr=0.001)"
      ]
    },
    {
      "cell_type": "code",
      "execution_count": 60,
      "metadata": {
        "id": "1KdhWZHb3Xar"
      },
      "outputs": [],
      "source": [
        "def epoch_time(start_time, end_time):\n",
        "    elapsed_time = end_time - start_time\n",
        "    elapsed_mins = int(elapsed_time / 60)\n",
        "    elapsed_secs = int(elapsed_time - (elapsed_mins * 60))\n",
        "    return elapsed_mins, elapsed_secs"
      ]
    },
    {
      "cell_type": "code",
      "execution_count": 61,
      "metadata": {
        "id": "_Sl8jGt43Xas"
      },
      "outputs": [
        {
          "name": "stdout",
          "output_type": "stream",
          "text": [
            "Epoch: 100 | cost: 28.051149 | time: 0m 0s\n",
            "Epoch: 200 | cost: 9.686008 | time: 0m 0s\n",
            "Epoch: 300 | cost: 14.526970 | time: 0m 0s\n",
            "Epoch: 400 | cost: 15.254799 | time: 0m 0s\n",
            "Epoch: 500 | cost: 19.835958 | time: 0m 0s\n",
            "Epoch: 600 | cost: 35.506367 | time: 0m 0s\n",
            "Epoch: 700 | cost: 6.913466 | time: 0m 0s\n",
            "Epoch: 800 | cost: 39.837910 | time: 0m 0s\n",
            "Epoch: 900 | cost: 29.825298 | time: 0m 0s\n",
            "Epoch: 1000 | cost: 19.204004 | time: 0m 0s\n"
          ]
        }
      ],
      "source": [
        "import time\n",
        "\n",
        "# Training\n",
        "num_epochs = 1000\n",
        "for epoch in range(num_epochs):\n",
        "\n",
        "    start = time.time()\n",
        "\n",
        "    input_batch, target_batch, cooc_batch, weighting_batch = random_batch(batch_size, corpus, skip_grams, X_ik, weighting_dic)\n",
        "    input_batch  = torch.LongTensor(input_batch)         #[batch_size, 1]\n",
        "    target_batch = torch.LongTensor(target_batch)        #[batch_size, 1]\n",
        "    cooc_batch   = torch.FloatTensor(cooc_batch)         #[batch_size, 1]\n",
        "    weighting_batch = torch.FloatTensor(weighting_batch) #[batch_size, 1]\n",
        "\n",
        "    optimizer.zero_grad()\n",
        "    loss = model(input_batch, target_batch, cooc_batch, weighting_batch)\n",
        "\n",
        "    loss.backward()\n",
        "    optimizer.step()\n",
        "\n",
        "    end = time.time()\n",
        "\n",
        "    epoch_mins, epoch_secs = epoch_time(start, end)\n",
        "\n",
        "    if (epoch + 1) % 100 == 0:\n",
        "        print(f\"Epoch: {epoch + 1} | cost: {loss:.6f} | time: {epoch_mins}m {epoch_secs}s\")\n"
      ]
    },
    {
      "cell_type": "code",
      "execution_count": 62,
      "metadata": {
        "id": "5uWT3OCiZA_K"
      },
      "outputs": [],
      "source": [
        "# X_ik = {}  #for keeping the co-occurences\n",
        "# weighting_dic = {} #scaling the percentage of sampling\n",
        "\n",
        "# for bigram in skip_grams:\n",
        "#     if X_ik_skipgram.get(bigram) is not None:  #matches\n",
        "#         co_occer = X_ik_skipgram[bigram]  #get the count from what we already counted\n",
        "#         X_ik[bigram] = co_occer + 1 # + 1 for stability issue\n",
        "#         X_ik[(bigram[1],bigram[0])] = co_occer+1   #count also for the opposite\n",
        "#     else:\n",
        "#         pass\n",
        "\n",
        "#     weighting_dic[bigram] = weighting(bigram[0], bigram[1], X_ik)\n",
        "#     weighting_dic[(bigram[1], bigram[0])] = weighting(bigram[1], bigram[0], X_ik)\n",
        "\n",
        "# print(f\"{X_ik=}\")\n",
        "# print(f\"{weighting_dic=}\")"
      ]
    },
    {
      "cell_type": "markdown",
      "metadata": {
        "id": "OfPJFKwh3Xat"
      },
      "source": [
        "## 6. Plotting the embeddings"
      ]
    },
    {
      "cell_type": "code",
      "execution_count": 63,
      "metadata": {
        "id": "0nhsR5tG3Xau"
      },
      "outputs": [
        {
          "data": {
            "text/plain": [
              "['barred',\n",
              " 'weight',\n",
              " 'transport',\n",
              " 'Gerard',\n",
              " 'blunt',\n",
              " 'octane',\n",
              " 'domestically',\n",
              " 'year',\n",
              " 'fixed',\n",
              " 'preparing']"
            ]
          },
          "execution_count": 63,
          "metadata": {},
          "output_type": "execute_result"
        }
      ],
      "source": [
        "#list of vocabs\n",
        "vocab[:10]"
      ]
    },
    {
      "cell_type": "code",
      "execution_count": 64,
      "metadata": {
        "id": "KayuRxzx3Xaw"
      },
      "outputs": [],
      "source": [
        "word = vocab[0]"
      ]
    },
    {
      "cell_type": "code",
      "execution_count": 65,
      "metadata": {
        "id": "2S74-gQ43Xay"
      },
      "outputs": [
        {
          "data": {
            "text/plain": [
              "0"
            ]
          },
          "execution_count": 65,
          "metadata": {},
          "output_type": "execute_result"
        }
      ],
      "source": [
        "#numericalization\n",
        "id = word2index[word]\n",
        "id"
      ]
    },
    {
      "cell_type": "code",
      "execution_count": 66,
      "metadata": {
        "id": "eFYJslcq3Xa1"
      },
      "outputs": [
        {
          "data": {
            "text/plain": [
              "tensor([0])"
            ]
          },
          "execution_count": 66,
          "metadata": {},
          "output_type": "execute_result"
        }
      ],
      "source": [
        "id_tensor = torch.LongTensor([id])\n",
        "id_tensor"
      ]
    },
    {
      "cell_type": "code",
      "execution_count": 67,
      "metadata": {
        "id": "JjhsvehG3Xa4"
      },
      "outputs": [
        {
          "data": {
            "text/plain": [
              "(tensor([[ 0.0027, -0.8143]], grad_fn=<EmbeddingBackward0>),\n",
              " tensor([[-0.7881,  0.4899]], grad_fn=<EmbeddingBackward0>))"
            ]
          },
          "execution_count": 67,
          "metadata": {},
          "output_type": "execute_result"
        }
      ],
      "source": [
        "#get the embedding by averaging\n",
        "v_embed = model.embedding_v(id_tensor)\n",
        "u_embed = model.embedding_u(id_tensor)\n",
        "\n",
        "v_embed, u_embed"
      ]
    },
    {
      "cell_type": "code",
      "execution_count": 68,
      "metadata": {
        "id": "Cnfa3MMo3XbF"
      },
      "outputs": [
        {
          "data": {
            "text/plain": [
              "tensor(-0.1622, grad_fn=<SelectBackward0>)"
            ]
          },
          "execution_count": 68,
          "metadata": {},
          "output_type": "execute_result"
        }
      ],
      "source": [
        "#average to get the word embedding\n",
        "word_embed = (v_embed + u_embed) / 2\n",
        "word_embed[0][1]"
      ]
    },
    {
      "cell_type": "code",
      "execution_count": 69,
      "metadata": {
        "id": "ru6OqHsR3XbG"
      },
      "outputs": [],
      "source": [
        "#let's write a function to get embedding given a word\n",
        "def get_embed(word):\n",
        "    id_tensor = torch.LongTensor([word2index[word]])\n",
        "    v_embed = model.embedding_v(id_tensor)\n",
        "    u_embed = model.embedding_u(id_tensor)\n",
        "    word_embed = (v_embed + u_embed) / 2\n",
        "    x, y = word_embed[0][0].item(), word_embed[0][1].item()\n",
        "\n",
        "    return x, y"
      ]
    },
    {
      "cell_type": "code",
      "execution_count": 70,
      "metadata": {
        "id": "4hqBu4_b3XbG"
      },
      "outputs": [
        {
          "data": {
            "image/png": "[encoded data removed]",
            "text/plain": [
              "<Figure size 600x300 with 1 Axes>"
            ]
          },
          "metadata": {},
          "output_type": "display_data"
        }
      ],
      "source": [
        "plt.figure(figsize=(6,3))\n",
        "for i, word in enumerate(vocab[:20]): #loop each unique vocab\n",
        "    x, y = get_embed(word)\n",
        "    plt.scatter(x, y)\n",
        "    plt.annotate(word, xy=(x, y), xytext=(5, 2), textcoords='offset points')\n",
        "plt.show()"
      ]
    },
    {
      "cell_type": "markdown",
      "metadata": {
        "id": "GZM3UB9f3XbG"
      },
      "source": [
        "## 7. Cosine similarity\n",
        "\n",
        "Formally the [Cosine Similarity](https://en.wikipedia.org/wiki/Cosine_similarity) $s$ between two vectors $p$ and $q$ is defined as:\n",
        "\n",
        "$$s = \\frac{p \\cdot q}{||p|| ||q||}, \\textrm{ where } s \\in [-1, 1] $$\n",
        "\n",
        "If $p$ and $q$ is super similar, the result is 1 otherwise 0."
      ]
    },
    {
      "cell_type": "code",
      "execution_count": 71,
      "metadata": {
        "id": "HpJYOIGT3XbH"
      },
      "outputs": [],
      "source": [
        "# vocab"
      ]
    },
    {
      "cell_type": "code",
      "execution_count": 72,
      "metadata": {
        "id": "x3fymIXt3XbI"
      },
      "outputs": [],
      "source": [
        "# #let's try similarity between first and second, and second and third\n",
        "# cat          = get_embed('cat')\n",
        "# fruit        = get_embed('fruit')\n",
        "# animal       = get_embed('animal')"
      ]
    },
    {
      "cell_type": "code",
      "execution_count": 73,
      "metadata": {
        "id": "qOu5rAH63XbJ"
      },
      "outputs": [],
      "source": [
        "# #numpy version\n",
        "# from numpy import dot\n",
        "# from numpy.linalg import norm\n",
        "\n",
        "# def cos_sim(a, b):\n",
        "#     cos_sim = dot(a, b)/(norm(a)*norm(b))\n",
        "#     return cos_sim\n",
        "\n",
        "# print(f\"cat vs. fruit: \",        cos_sim(cat, fruit))\n",
        "# print(f\"cat vs. animal: \",       cos_sim(cat, animal))\n",
        "# print(f\"cat vs. cat: \",          cos_sim(cat, cat))"
      ]
    },
    {
      "cell_type": "code",
      "execution_count": 74,
      "metadata": {
        "id": "UTsWbMrH3XbK"
      },
      "outputs": [],
      "source": [
        "# #scipy version\n",
        "# from scipy import spatial\n",
        "\n",
        "# def cos_sim(a, b):\n",
        "#     cos_sim = 1 - spatial.distance.cosine(a, b)  #distance = 1 - similarlity, because scipy only gives distance\n",
        "#     return cos_sim\n",
        "\n",
        "# print(f\"cat vs. fruit: \",     cos_sim(cat, fruit))\n",
        "# print(f\"cat vs. animal: \",       cos_sim(cat, animal))\n",
        "# print(f\"cat vs. cat: \",          cos_sim(cat, cat))"
      ]
    },
    {
      "cell_type": "markdown",
      "metadata": {},
      "source": [
        "## 8. Save Model"
      ]
    },
    {
      "cell_type": "code",
      "execution_count": 75,
      "metadata": {},
      "outputs": [],
      "source": [
        "torch.save(model, './model/GloVe.pth')"
      ]
    },
    {
      "cell_type": "markdown",
      "metadata": {},
      "source": [
        "## 9. Testing"
      ]
    },
    {
      "cell_type": "code",
      "execution_count": 100,
      "metadata": {},
      "outputs": [],
      "source": [
        "import torch\n",
        "import numpy as np\n",
        "from scipy import spatial\n",
        "from sklearn.neighbors import KDTree\n",
        "\n",
        "class AnalogyTest():\n",
        "    def __init__(self, model, testfile_path, vocab):\n",
        "        self.testfile_path = testfile_path\n",
        "        self.model = model\n",
        "        self.vocab = vocab\n",
        "        self.embeddings = [self.get_embed(word) for word in self.vocab[:-1]]\n",
        "        self.kdtree = KDTree(self.embeddings)\n",
        "\n",
        "    def sections(self):\n",
        "        section_list = []\n",
        "        with open(self.testfile_path, 'r') as file:\n",
        "            for line in file:\n",
        "                # find capital-common-countries section\n",
        "                if line.startswith(':'):\n",
        "                    section = line[1:].strip()\n",
        "                    section_list.append(section)\n",
        "        return section_list\n",
        "\n",
        "    def get_embed(self, word):\n",
        "        if word in self.vocab[:-1]:\n",
        "            id_tensor = torch.LongTensor([word2index[word]])\n",
        "            v_embed = self.model.embedding_v(id_tensor)\n",
        "            u_embed = self.model.embedding_u(id_tensor)\n",
        "            word_embed = (v_embed + u_embed) / 2\n",
        "            x, y = word_embed[0][0].item(), word_embed[0][1].item()\n",
        "            return np.array([x, y])\n",
        "        else:\n",
        "            return None\n",
        "    \n",
        "    def cos_sim(self, w1, w2):\n",
        "        w1 = self.get_embed(w1)\n",
        "        w2 = self.get_embed(w2)\n",
        "        cos_sim = 1 - spatial.distance.cosine(w1, w2)  #distance = 1 - similarlity, because scipy only gives distance\n",
        "        return cos_sim\n",
        "\n",
        "    def test(self, section):\n",
        "        total_count = 0\n",
        "        correct_count = 0\n",
        "        score = 0\n",
        "        i = 0\n",
        "        current_section = None\n",
        "\n",
        "        with open(self.testfile_path, 'r') as file:\n",
        "\n",
        "            ##################\n",
        "            print('Sample Inferences')\n",
        "            print('='*20)    \n",
        "\n",
        "            for line in file:\n",
        "                \n",
        "                # max_similarity = -1\n",
        "\n",
        "                if line.startswith(':'):\n",
        "                    current_section = line[1:].strip()\n",
        "                    continue\n",
        "\n",
        "                if current_section == section:\n",
        "                    analogy = line.strip().split()\n",
        "                    if len(analogy) != 4:\n",
        "                        continue\n",
        "                    w1, w2, w3, w4 = analogy\n",
        "\n",
        "                    try:\n",
        "                        vec_w1 = self.get_embed(w1)\n",
        "                        vec_w2 = self.get_embed(w2)\n",
        "                        vec_w3 = self.get_embed(w3)\n",
        "                        vec_w4 = self.get_embed(w4)\n",
        "\n",
        "                        if any(vec is None for vec in [vec_w1, vec_w2, vec_w3, vec_w4]):\n",
        "                            # print('none')\n",
        "                            continue \n",
        "\n",
        "                        vec_w4_inferred = vec_w2 + vec_w3 - vec_w1\n",
        "\n",
        "                        # for word in self.vocab:\n",
        "                            \n",
        "                        #     word_vec = self.get_embed(word)\n",
        "                        #     similarity = 1 - spatial.distance.cosine(word_vec, vec_w4)\n",
        "\n",
        "                        #     if similarity > max_similarity:\n",
        "                        #         max_similarity = similarity\n",
        "                        #         infer = word\n",
        "                        _, indices = self.kdtree.query([vec_w4_inferred], k=1)\n",
        "                        infer = self.vocab[indices[0][0]]\n",
        "                        \n",
        "                        total_count += 1\n",
        "                        if infer == w4:\n",
        "                            correct_count += 1\n",
        "                        similarity = max(-1, 1 - spatial.distance.cosine(self.get_embed(infer), vec_w4))\n",
        "                        score += similarity\n",
        "\n",
        "                        ################\n",
        "                        while i < 3:\n",
        "                            print(w1, w2, w3, w4)\n",
        "                            print(vec_w1, vec_w2, vec_w3)\n",
        "                            try:\n",
        "                                print(f\"Correct word's vector: {self.get_embed(w4)}\")\n",
        "                            except:\n",
        "                                print(f'{w4} is not in the trained vocab')\n",
        "                            print(f\"Inferred vector: {self.get_embed(infer)}\")\n",
        "                            print(f'Inferred word: {infer}')\n",
        "                            print(f'Similarity: {similarity}\\n')\n",
        "                            i += 1\n",
        "                            break\n",
        "                    except KeyError as e:\n",
        "                        # print(f'\"{e}\" is not found in the trained vocabulary.')\n",
        "                        pass     \n",
        "\n",
        "        if total_count == 0:\n",
        "            print('No test is performed')\n",
        "            return 0\n",
        "        accuracy = correct_count / total_count\n",
        "        print('='*20)  \n",
        "        print(f'Total test: {total_count}\\nCorrect words: {correct_count}\\nAccuracy: {accuracy}\\nScore: {score}')\n",
        "        return accuracy"
      ]
    },
    {
      "cell_type": "code",
      "execution_count": 77,
      "metadata": {},
      "outputs": [],
      "source": [
        "testfile_path = './testing/word-test.v1.txt'\n",
        "model = torch.load('./model/GloVe.pth')"
      ]
    },
    {
      "cell_type": "code",
      "execution_count": 78,
      "metadata": {},
      "outputs": [],
      "source": [
        "# vocab"
      ]
    },
    {
      "cell_type": "code",
      "execution_count": 101,
      "metadata": {},
      "outputs": [],
      "source": [
        "analogy_test = AnalogyTest(model, testfile_path, vocab)"
      ]
    },
    {
      "cell_type": "code",
      "execution_count": 102,
      "metadata": {},
      "outputs": [],
      "source": [
        "# analogy_test.sections()"
      ]
    },
    {
      "cell_type": "code",
      "execution_count": 103,
      "metadata": {},
      "outputs": [],
      "source": [
        "import warnings\n",
        "warnings.filterwarnings('ignore')"
      ]
    },
    {
      "cell_type": "code",
      "execution_count": 104,
      "metadata": {},
      "outputs": [
        {
          "name": "stdout",
          "output_type": "stream",
          "text": [
            "Sample Inferences\n",
            "====================\n",
            "Canberra Australia London England\n",
            "[-0.6065194  -1.74740052] [-0.64113224 -0.37048629] [-1.26576054  0.94679606]\n",
            "Correct word's vector: [-0.55583042  0.76225638]\n",
            "Inferred vector: [-0.93714243  2.20125914]\n",
            "Inferred word: offers\n",
            "Similarity: 0.9742195844175561\n",
            "\n",
            "Canberra Australia Oslo Norway\n",
            "[-0.6065194  -1.74740052] [-0.64113224 -0.37048629] [0.40594709 0.30819339]\n",
            "Correct word's vector: [-0.59127223 -0.43502334]\n",
            "Inferred vector: [0.36179698 1.56954479]\n",
            "Inferred word: fees\n",
            "Similarity: -0.7584074719921556\n",
            "\n",
            "Canberra Australia Paris France\n",
            "[-0.6065194  -1.74740052] [-0.64113224 -0.37048629] [ 0.24804589 -0.62438774]\n",
            "Correct word's vector: [-0.50202203  0.24556623]\n",
            "Inferred vector: [0.22988027 0.77504712]\n",
            "Inferred word: vice\n",
            "Similarity: 0.16582773694966502\n",
            "\n",
            "====================\n",
            "Total test: 20\n",
            "Correct words: 0\n",
            "Accuracy: 0.0\n",
            "Score: 5.570705108806251\n"
          ]
        }
      ],
      "source": [
        "accuracy = analogy_test.test(section = 'capital-common-countries')"
      ]
    },
    {
      "cell_type": "code",
      "execution_count": 105,
      "metadata": {},
      "outputs": [
        {
          "name": "stdout",
          "output_type": "stream",
          "text": [
            "Sample Inferences\n",
            "====================\n",
            "describing described falling fell\n",
            "[-0.64547324 -0.6083023 ] [ 1.0609864  -0.05454478] [0.0191555  0.09183234]\n",
            "Correct word's vector: [-0.67611384  1.42710841]\n",
            "Inferred vector: [1.67360914 0.68146759]\n",
            "Inferred word: feared\n",
            "Similarity: -0.055726752092499554\n",
            "\n",
            "describing described increasing increased\n",
            "[-0.64547324 -0.6083023 ] [ 1.0609864  -0.05454478] [ 0.10195164 -0.56648493]\n",
            "Correct word's vector: [ 0.30036402 -0.32026541]\n",
            "Inferred vector: [ 1.72800684 -0.10236938]\n",
            "Inferred word: Medical\n",
            "Similarity: 0.7260188513525497\n",
            "\n",
            "describing described looking looked\n",
            "[-0.64547324 -0.6083023 ] [ 1.0609864  -0.05454478] [-1.12409914  1.24928677]\n",
            "Correct word's vector: [-0.09264372 -1.75108278]\n",
            "Inferred vector: [0.55274796 1.72373736]\n",
            "Inferred word: directors\n",
            "Similarity: -0.9670419278362112\n",
            "\n",
            "====================\n",
            "Total test: 72\n",
            "Correct words: 0\n",
            "Accuracy: 0.0\n",
            "Score: -12.09324790453079\n"
          ]
        }
      ],
      "source": [
        "accuracy = analogy_test.test(section = 'gram7-past-tense')"
      ]
    },
    {
      "cell_type": "markdown",
      "metadata": {},
      "source": [
        "## 10. Similarity testing"
      ]
    },
    {
      "cell_type": "code",
      "execution_count": 3,
      "metadata": {},
      "outputs": [],
      "source": [
        "model = torch.load('./model/GloVe.pth')"
      ]
    },
    {
      "cell_type": "code",
      "execution_count": 4,
      "metadata": {},
      "outputs": [],
      "source": [
        "import pickle\n",
        "\n",
        "vocab = pickle.load(open('./vocab/glove_vocab.pkl', 'rb'))"
      ]
    },
    {
      "cell_type": "code",
      "execution_count": 5,
      "metadata": {},
      "outputs": [],
      "source": [
        "word2index = {w: i for i, w in enumerate(vocab)}"
      ]
    },
    {
      "cell_type": "code",
      "execution_count": 6,
      "metadata": {},
      "outputs": [],
      "source": [
        "def get_embed(word):\n",
        "    id_tensor = torch.LongTensor([word2index[word]])\n",
        "    v_embed = model.embedding_v(id_tensor)\n",
        "    u_embed = model.embedding_u(id_tensor)\n",
        "    word_embed = (v_embed + u_embed) / 2\n",
        "    x, y = word_embed[0][0].item(), word_embed[0][1].item()\n",
        "\n",
        "    return x, y"
      ]
    },
    {
      "cell_type": "code",
      "execution_count": 7,
      "metadata": {},
      "outputs": [],
      "source": [
        "from scipy import spatial\n",
        "\n",
        "def cos_sim(a, b):\n",
        "    cos_sim = 1 - spatial.distance.cosine(a, b)  #distance = 1 - similarlity, because scipy only gives distance\n",
        "    return cos_sim"
      ]
    },
    {
      "cell_type": "code",
      "execution_count": 8,
      "metadata": {},
      "outputs": [
        {
          "name": "stdout",
          "output_type": "stream",
          "text": [
            "35 tests were performed\n",
            "MSE: 20.37536700502739\n",
            "SignificanceResult(statistic=0.012047349148786954, pvalue=0.9452387522390693)\n"
          ]
        }
      ],
      "source": [
        "from scipy.stats import spearmanr\n",
        "\n",
        "test_performed = 0\n",
        "se = 0\n",
        "\n",
        "sim_list = []\n",
        "inferred_sim_list = []\n",
        "\n",
        "for line in open('./testing/wordsim_similarity_goldstandard.txt', 'rb'):\n",
        "    if len(line.split()) != 3:\n",
        "        continue\n",
        "    test = line.decode('utf-8').split()\n",
        "    w1, w2, sim = test\n",
        "    if w1 not in vocab or w2 not in vocab:\n",
        "        continue\n",
        "    # transformed the scalar range from [-1, 1] to [0,10] linearly to match the range of similarity in testing file\n",
        "    inferred_sim = cos_sim(get_embed(w1), get_embed(w2)) * 5 + 5 \n",
        "    test_performed += 1\n",
        "    se += (inferred_sim - float(sim)) ** 2\n",
        "    sim_list.append(sim)\n",
        "    inferred_sim_list.append(inferred_sim)\n",
        "\n",
        "if test_performed != 0:\n",
        "    mse = se / test_performed\n",
        "    print(f'{test_performed} tests were performed')\n",
        "    print(f'MSE: {mse}')\n",
        "else:\n",
        "    print('no test is performed')\n",
        "\n",
        "print(spearmanr(sim_list, inferred_sim_list))"
      ]
    },
    {
      "cell_type": "code",
      "execution_count": null,
      "metadata": {},
      "outputs": [],
      "source": []
    },
    {
      "cell_type": "code",
      "execution_count": null,
      "metadata": {},
      "outputs": [],
      "source": []
    }
  ],
  "metadata": {
    "accelerator": "TPU",
    "anaconda-cloud": {},
    "colab": {
      "provenance": []
    },
    "kernelspec": {
      "display_name": "Python 3",
      "name": "python3"
    },
    "language_info": {
      "codemirror_mode": {
        "name": "ipython",
        "version": 3
      },
      "file_extension": ".py",
      "mimetype": "text/x-python",
      "name": "python",
      "nbconvert_exporter": "python",
      "pygments_lexer": "ipython3",
      "version": "3.11.5"
    },
    "vscode": {
      "interpreter": {
        "hash": "0f2c79af21be9d001248940c049b6176cf8bfb45cabf7aa85848f5cea0f590f6"
      }
    }
  },
  "nbformat": 4,
  "nbformat_minor": 0
}
